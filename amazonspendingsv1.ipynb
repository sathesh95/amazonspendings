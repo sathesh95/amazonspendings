{
 "cells": [
  {
   "cell_type": "code",
   "execution_count": null,
   "metadata": {},
   "outputs": [],
   "source": [
    "import requests,re\n",
    "from bs4 import BeautifulSoup\n",
    "from selenium import webdriver\n",
    "import sys\n",
    "import time\n",
    "from selenium.webdriver.common.keys import Keys\n",
    "from selenium.webdriver.common.by import By\n",
    "from selenium.webdriver.support.ui import WebDriverWait\n",
    "from selenium.webdriver.support import expected_conditions as EC\n",
    "from selenium.common.exceptions import NoSuchElementException\n",
    "from selenium.webdriver.support.select import Select\n",
    "username=input('Enter your email id') #accept email id from user\n",
    "password=input('Enter your password') #accept password from user\n",
    "driver = webdriver.Chrome(r\"C:\\Users\\Nithin\\Downloads\\chromedr\\chromedriver.exe\") # Change it to your chrome driver directory\n",
    "res = driver.get('https://www.amazon.in/gp/your-account/order-history/ref=oh_aui_pagination_3_1?ie=UTF8&orderFilter=year-2018&search=&startIndex=0') #Change it to the year you want to knnow your purchases\n",
    "driver.find_element_by_id(\"ap_email\").send_keys(username) ## Edit your amazon username\n",
    "loginbutton=driver.find_element_by_id(\"continue\")\n",
    "loginbutton.click()\n",
    "driver.find_element_by_id(\"ap_password\").send_keys(password) ## Edit your amazon password\n",
    "loginbutton=driver.find_element_by_id(\"signInSubmit\")\n",
    "loginbutton.click()\n",
    "x=[]\n",
    "wait = WebDriverWait(driver, 100)\n",
    "while True:\n",
    "    try:\n",
    "        \n",
    "  \n",
    "        source=driver.page_source\n",
    "        soup = BeautifulSoup(source, \"html.parser\") # Use beautiful soup to scrape the page\n",
    "        wait.until(EC.presence_of_element_located((By.CLASS_NAME, 'currencyINR'))) #Wait till the page completes loading\n",
    "        spans = soup.find_all('span', attrs={'class':'a-color-secondary value'}) #Find the attributes that hold the price data\n",
    "        for span in spans:\n",
    "            m=re.search('Rs',str(span.findAll(text=True))) #Use search to locate only the exact price data we need\n",
    "            if m:\n",
    "                print(span.text)\n",
    "                x.append(span.text)\n",
    "        nextbutton=driver.find_element_by_xpath(\"//*[@id='ordersContainer']/div[12]/div/ul/li[5]/a\") #to automate page navigation\n",
    "        nextbutton.click()\n",
    "        time.sleep(3)\n",
    "    except:\n",
    "        break\n",
    "\n",
    "import pandas as pd\n",
    "df=pd.DataFrame(x)\n",
    "df.to_csv(r'C:\\Users\\Public\\amazonpurchasedata2018.csv', index=False) #Outputs collection of all your purchases.Change the dir to what you want.\n",
    "            "
   ]
  }
 ],
 "metadata": {
  "kernelspec": {
   "display_name": "Python 3",
   "language": "python",
   "name": "python3"
  },
  "language_info": {
   "codemirror_mode": {
    "name": "ipython",
    "version": 3
   },
   "file_extension": ".py",
   "mimetype": "text/x-python",
   "name": "python",
   "nbconvert_exporter": "python",
   "pygments_lexer": "ipython3",
   "version": "3.6.4"
  }
 },
 "nbformat": 4,
 "nbformat_minor": 2
}
